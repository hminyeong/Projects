{
 "cells": [
  {
   "cell_type": "code",
   "execution_count": null,
   "metadata": {},
   "outputs": [],
   "source": [
    "!pip install ipynb-py-convert"
   ]
  },
  {
   "cell_type": "code",
   "execution_count": 10,
   "metadata": {},
   "outputs": [],
   "source": [
    "!ipynb-py-convert 05_sat_demo.ipynb 05_sat_demo.py"
   ]
  },
  {
   "cell_type": "code",
   "execution_count": 2,
   "metadata": {},
   "outputs": [
    {
     "name": "stderr",
     "output_type": "stream",
     "text": [
      "usage: jupyter [-h] [--version] [--config-dir] [--data-dir] [--runtime-dir]\n",
      "               [--paths] [--json] [--debug]\n",
      "               [subcommand]\n",
      "\n",
      "Jupyter: Interactive Computing\n",
      "\n",
      "positional arguments:\n",
      "  subcommand     the subcommand to launch\n",
      "\n",
      "optional arguments:\n",
      "  -h, --help     show this help message and exit\n",
      "  --version      show the versions of core jupyter packages and exit\n",
      "  --config-dir   show Jupyter config dir\n",
      "  --data-dir     show Jupyter data dir\n",
      "  --runtime-dir  show Jupyter runtime dir\n",
      "  --paths        show all Jupyter paths. Add --json for machine-readable\n",
      "                 format.\n",
      "  --json         output paths as machine-readable json\n",
      "  --debug        output debug information about paths\n",
      "\n",
      "Available subcommands: kernel kernelspec migrate run troubleshoot\n",
      "\n",
      "Jupyter command `jupyter-nbconvert` not found.\n"
     ]
    }
   ],
   "source": [
    "!jupyter nbconvert --to script 01_data_preprocess.ipynb"
   ]
  },
  {
   "cell_type": "code",
   "execution_count": 1,
   "metadata": {},
   "outputs": [
    {
     "ename": "ModuleNotFoundError",
     "evalue": "No module named 'pandas'",
     "output_type": "error",
     "traceback": [
      "\u001b[1;31m---------------------------------------------------------------------------\u001b[0m",
      "\u001b[1;31mModuleNotFoundError\u001b[0m                       Traceback (most recent call last)",
      "Cell \u001b[1;32mIn[1], line 4\u001b[0m\n\u001b[0;32m      1\u001b[0m \u001b[39mimport\u001b[39;00m \u001b[39mwarnings\u001b[39;00m\n\u001b[0;32m      2\u001b[0m warnings\u001b[39m.\u001b[39msimplefilter(action\u001b[39m=\u001b[39m\u001b[39m'\u001b[39m\u001b[39mignore\u001b[39m\u001b[39m'\u001b[39m)\n\u001b[1;32m----> 4\u001b[0m \u001b[39mimport\u001b[39;00m \u001b[39mpandas\u001b[39;00m \u001b[39mas\u001b[39;00m \u001b[39mpd\u001b[39;00m\n",
      "\u001b[1;31mModuleNotFoundError\u001b[0m: No module named 'pandas'"
     ]
    }
   ],
   "source": [
    "import warnings\n",
    "warnings.simplefilter(action='ignore')\n",
    "\n",
    "import pandas as pd"
   ]
  },
  {
   "attachments": {},
   "cell_type": "markdown",
   "metadata": {},
   "source": [
    "## SAT datset"
   ]
  },
  {
   "cell_type": "code",
   "execution_count": null,
   "metadata": {},
   "outputs": [],
   "source": [
    "sat_data = pd.read_csv(\"data/raw/sat_problems.csv\")\n",
    "sat_data = sat_data[sat_data[\"question\"].map(lambda x: \"어법\" in x)]"
   ]
  },
  {
   "cell_type": "code",
   "execution_count": null,
   "metadata": {},
   "outputs": [],
   "source": [
    "sat_train = sat_data[(sat_data[\"year\"] < 2020)]\n",
    "sat_valid = sat_data[(sat_data[\"year\"] == 2020)]\n",
    "sat_test = sat_data[sat_data[\"year\"] > 2020]"
   ]
  },
  {
   "cell_type": "code",
   "execution_count": null,
   "metadata": {},
   "outputs": [
    {
     "name": "stdout",
     "output_type": "stream",
     "text": [
      "# of train data: 96\n",
      "# of valid data: 18\n",
      "# of test data: 15\n"
     ]
    }
   ],
   "source": [
    "print(\"# of train data:\", sat_train.shape[0])\n",
    "print(\"# of valid data:\", sat_valid.shape[0])\n",
    "print(\"# of test data:\", sat_test.shape[0])"
   ]
  },
  {
   "cell_type": "code",
   "execution_count": null,
   "metadata": {},
   "outputs": [],
   "source": [
    "def clean_bracket(string):\n",
    "    string = string.replace(\"[\", \"\")\n",
    "    string = string.replace(\"]\", \"\")\n",
    "    return string"
   ]
  },
  {
   "cell_type": "code",
   "execution_count": null,
   "metadata": {},
   "outputs": [],
   "source": [
    "sat_train[\"context\"] = sat_train[\"context\"].map(clean_bracket)\n",
    "sat_valid[\"context\"] = sat_valid[\"context\"].map(clean_bracket)\n",
    "sat_test[\"context\"] = sat_test[\"context\"].map(clean_bracket)"
   ]
  },
  {
   "cell_type": "code",
   "execution_count": null,
   "metadata": {},
   "outputs": [],
   "source": [
    "sat_train[\"label\"] = sat_train[\"label\"].map(int)\n",
    "sat_valid[\"label\"] = sat_valid[\"label\"].map(int)\n",
    "sat_test[\"label\"] = sat_test[\"label\"].map(int)"
   ]
  },
  {
   "cell_type": "code",
   "execution_count": null,
   "metadata": {},
   "outputs": [],
   "source": [
    "sat_train.to_csv(\"data/processed/sat_train.tsv\", sep=\"\\t\", index=False)\n",
    "sat_valid.to_csv(\"data/processed/sat_valid.tsv\", sep=\"\\t\", index=False)\n",
    "sat_test.to_csv(\"data/processed/sat_test.tsv\", sep=\"\\t\", index=False)"
   ]
  },
  {
   "attachments": {},
   "cell_type": "markdown",
   "metadata": {},
   "source": [
    "## CoLA Daaset"
   ]
  },
  {
   "cell_type": "code",
   "execution_count": null,
   "metadata": {},
   "outputs": [],
   "source": [
    "columns = [\"source\", \"label\", \"original_judgement\", \"context\"]\n",
    "in_domian_train = pd.read_csv(\"data/raw/cola/in_domain_train.tsv\", sep=\"\\t\", header=None, names=columns)\n",
    "in_domian_dev = pd.read_csv(\"data/raw/cola/in_domain_dev.tsv\", sep=\"\\t\", header=None, names=columns)\n",
    "out_of_domian_dev = pd.read_csv(\"data/raw/cola/out_of_domain_dev.tsv\", sep=\"\\t\", header=None, names=columns)"
   ]
  },
  {
   "cell_type": "code",
   "execution_count": null,
   "metadata": {},
   "outputs": [
    {
     "name": "stdout",
     "output_type": "stream",
     "text": [
      "# of cola train data: 8551\n",
      "# of cola valid data: 527\n",
      "# of cola test data: 516\n"
     ]
    }
   ],
   "source": [
    "print(\"# of cola train data:\", in_domian_train.shape[0])\n",
    "print(\"# of cola valid data:\", in_domian_dev.shape[0])\n",
    "print(\"# of cola test data:\", out_of_domian_dev.shape[0])"
   ]
  },
  {
   "cell_type": "code",
   "execution_count": null,
   "metadata": {},
   "outputs": [],
   "source": [
    "in_domian_train[[\"context\", \"label\"]].to_csv(\"data/processed/cola_train.tsv\", sep=\"\\t\", index=False)\n",
    "in_domian_dev[[\"context\", \"label\"]].to_csv(\"data/processed/cola_valid.tsv\", sep=\"\\t\", index=False)\n",
    "out_of_domian_dev[[\"context\", \"label\"]].to_csv(\"data/processed/cola_test.tsv\", sep=\"\\t\", index=False)"
   ]
  }
 ],
 "metadata": {
  "kernelspec": {
   "display_name": "Python 3",
   "language": "python",
   "name": "python3"
  },
  "language_info": {
   "codemirror_mode": {
    "name": "ipython",
    "version": 3
   },
   "file_extension": ".py",
   "mimetype": "text/x-python",
   "name": "python",
   "nbconvert_exporter": "python",
   "pygments_lexer": "ipython3",
   "version": "3.8.10"
  }
 },
 "nbformat": 4,
 "nbformat_minor": 4
}
